{
 "cells": [
  {
   "cell_type": "code",
   "execution_count": 6,
   "id": "d8418c0d",
   "metadata": {},
   "outputs": [],
   "source": [
    "import shapely\n",
    "import numpy as np\n",
    "import matplotlib.pyplot as plt\n",
    "from collections import OrderedDict\n",
    "from shapely.geometry import Point\n",
    "from scipy.constants import epsilon_0, speed_of_light\n",
    "from skfem import Basis, ElementTriP0\n",
    "from skfem.io.meshio import from_meshio\n",
    "from femwell.maxwell.waveguide import compute_modes\n",
    "from femwell.mesh import mesh_from_OrderedDict\n",
    "from femwell.visualization import plot_domains\n",
    "from shapely.geometry import Polygon, MultiPolygon\n"
   ]
  },
  {
   "cell_type": "code",
   "execution_count": 7,
   "id": "a47efbd8",
   "metadata": {},
   "outputs": [
    {
     "ename": "TypeError",
     "evalue": "unsupported operand type(s) for |: 'type' and 'NoneType'",
     "output_type": "error",
     "traceback": [
      "\u001b[0;31m---------------------------------------------------------------------------\u001b[0m",
      "\u001b[0;31mTypeError\u001b[0m                                 Traceback (most recent call last)",
      "Cell \u001b[0;32mIn[7], line 3\u001b[0m\n\u001b[1;32m      1\u001b[0m \u001b[38;5;28;01mimport\u001b[39;00m \u001b[38;5;21;01mshapely\u001b[39;00m\n\u001b[1;32m      2\u001b[0m \u001b[38;5;28;01mimport\u001b[39;00m \u001b[38;5;21;01mskfem\u001b[39;00m\n\u001b[0;32m----> 3\u001b[0m \u001b[38;5;28;01mfrom\u001b[39;00m \u001b[38;5;21;01mmeshwell\u001b[39;00m\u001b[38;5;21;01m.\u001b[39;00m\u001b[38;5;21;01mprism\u001b[39;00m \u001b[38;5;28;01mimport\u001b[39;00m Prism\n\u001b[1;32m      4\u001b[0m \u001b[38;5;28;01mfrom\u001b[39;00m \u001b[38;5;21;01mmeshwell\u001b[39;00m\u001b[38;5;21;01m.\u001b[39;00m\u001b[38;5;21;01mmodel\u001b[39;00m \u001b[38;5;28;01mimport\u001b[39;00m Model\n\u001b[1;32m      5\u001b[0m \u001b[38;5;28;01mfrom\u001b[39;00m \u001b[38;5;21;01mmeshwell\u001b[39;00m\u001b[38;5;21;01m.\u001b[39;00m\u001b[38;5;21;01mgmsh_entity\u001b[39;00m \u001b[38;5;28;01mimport\u001b[39;00m GMSH_entity\n",
      "File \u001b[0;32m~/opt/anaconda3/lib/python3.8/site-packages/meshwell/prism.py:6\u001b[0m\n\u001b[1;32m      2\u001b[0m \u001b[38;5;28;01mfrom\u001b[39;00m \u001b[38;5;21;01mpydantic\u001b[39;00m \u001b[38;5;28;01mimport\u001b[39;00m BaseModel, Field, ConfigDict\n\u001b[1;32m      3\u001b[0m \u001b[38;5;28;01mfrom\u001b[39;00m \u001b[38;5;21;01mshapely\u001b[39;00m\u001b[38;5;21;01m.\u001b[39;00m\u001b[38;5;21;01mgeometry\u001b[39;00m \u001b[38;5;28;01mimport\u001b[39;00m Polygon, MultiPolygon\n\u001b[0;32m----> 6\u001b[0m \u001b[38;5;28;01mclass\u001b[39;00m \u001b[38;5;21;01mPrism\u001b[39;00m(BaseModel):\n\u001b[1;32m      7\u001b[0m \u001b[38;5;250m    \u001b[39m\u001b[38;5;124;03m\"\"\"\u001b[39;00m\n\u001b[1;32m      8\u001b[0m \u001b[38;5;124;03m    Creates a bottom-up GMSH \"prism\" formed by a polygon associated with (optional) z-dependent grow/shrink operations.\u001b[39;00m\n\u001b[1;32m      9\u001b[0m \n\u001b[0;32m   (...)\u001b[0m\n\u001b[1;32m     15\u001b[0m \u001b[38;5;124;03m        mesh_bool: if True, entity will be meshed; if not, will not be meshed (useful to tag boundaries)\u001b[39;00m\n\u001b[1;32m     16\u001b[0m \u001b[38;5;124;03m    \"\"\"\u001b[39;00m\n\u001b[1;32m     18\u001b[0m     polygons: Union[Polygon, List[Polygon], MultiPolygon, List[MultiPolygon]] \u001b[38;5;241m=\u001b[39m Field(\n\u001b[1;32m     19\u001b[0m         \u001b[38;5;241m.\u001b[39m\u001b[38;5;241m.\u001b[39m\u001b[38;5;241m.\u001b[39m\n\u001b[1;32m     20\u001b[0m     )\n",
      "File \u001b[0;32m~/opt/anaconda3/lib/python3.8/site-packages/meshwell/prism.py:24\u001b[0m, in \u001b[0;36mPrism\u001b[0;34m()\u001b[0m\n\u001b[1;32m     22\u001b[0m model: Any\n\u001b[1;32m     23\u001b[0m physical_name: Optional[\u001b[38;5;28mstr\u001b[39m] \u001b[38;5;241m=\u001b[39m Field(\u001b[38;5;28;01mNone\u001b[39;00m)\n\u001b[0;32m---> 24\u001b[0m mesh_order: \u001b[38;5;28;43mfloat\u001b[39;49m\u001b[43m \u001b[49m\u001b[38;5;241;43m|\u001b[39;49m\u001b[43m \u001b[49m\u001b[38;5;28;43;01mNone\u001b[39;49;00m \u001b[38;5;241m=\u001b[39m \u001b[38;5;28;01mNone\u001b[39;00m\n\u001b[1;32m     25\u001b[0m mesh_bool: \u001b[38;5;28mbool\u001b[39m \u001b[38;5;241m=\u001b[39m Field(\u001b[38;5;28;01mTrue\u001b[39;00m)\n\u001b[1;32m     26\u001b[0m buffered_polygons: List[Tuple[\u001b[38;5;28mfloat\u001b[39m, Polygon]] \u001b[38;5;241m=\u001b[39m []\n",
      "\u001b[0;31mTypeError\u001b[0m: unsupported operand type(s) for |: 'type' and 'NoneType'"
     ]
    }
   ],
   "source": [
    "import shapely\n",
    "import skfem\n",
    "from meshwell.prism import Prism\n",
    "from meshwell.model import Model\n",
    "from meshwell.gmsh_entity import GMSH_entity\n",
    "from skfem.visuals.matplotlib import draw_mesh3d\n",
    "from skfem.io.meshio import from_meshio\n",
    "import meshio\n",
    "\n",
    "\n",
    "def fiber_mesh(outer_radius_core =  700 / 2,\n",
    "                outer_radius_clad = 850 / 2,\n",
    "                outer_radius_air = 2500 / 2,\n",
    "                clad_resolution = 100,\n",
    "                clad_dropoff = 200,\n",
    "                air_resolution = 200,\n",
    "                ):\n",
    "    \"\"\"Returns a mesh of the air-core fiber.\n",
    "    Constructs a mesh for a fiber with specified parameters for the core,\n",
    "    cladding, and surrounding air. The mesh is created using the GMSH\n",
    "    geometry kernel and is suitable for finite element analysis.\n",
    "\n",
    "    Parameters\n",
    "    ----------\n",
    "    outer_radius_core : float\n",
    "        The outer radius of the fiber core.\n",
    "    outer_radius_clad : float\n",
    "        The outer radius of the fiber cladding.\n",
    "    outer_radius_air : float\n",
    "        The outer radius of the surrounding air.\n",
    "    clad_resolution : float\n",
    "        The mesh resolution for the high-index cladding.\n",
    "    clad_dropoff : float\n",
    "        The mesh size drop-off rate around the cladding.\n",
    "    air_resolution : float\n",
    "        The mesh resolution for the surrounding air.\n",
    "\n",
    "    Returns\n",
    "    -------\n",
    "    mesh : skfem.Mesh\n",
    "        The generated mesh object.\n",
    "    \"\"\"\n",
    "    \n",
    "    model = Model()\n",
    "\n",
    "    core = GMSH_entity(\n",
    "        gmsh_function=model.occ.addDisk,\n",
    "        gmsh_function_kwargs={\"xc\": 0, \"yc\": 0, \"zc\": 0, \"rx\": outer_radius_core, \"ry\": outer_radius_core},\n",
    "        model=model,\n",
    "        mesh_order=1,\n",
    "        physical_name=\"core\",\n",
    "        dimension=2,\n",
    "    )\n",
    "\n",
    "    clad = GMSH_entity(\n",
    "        gmsh_function=model.occ.addDisk,\n",
    "        gmsh_function_kwargs={\"xc\": 0, \"yc\": 0, \"zc\": 0, \"rx\": outer_radius_clad, \"ry\": outer_radius_clad},\n",
    "        model=model,\n",
    "        mesh_order=2,\n",
    "        physical_name=\"clad\",\n",
    "        dimension=2,\n",
    "        resolution={\"resolution\": clad_resolution, \"DistMax\": clad_dropoff, \"SizeMax\": air_resolution},\n",
    "    )\n",
    "\n",
    "    air = GMSH_entity(\n",
    "        gmsh_function=model.occ.addDisk,\n",
    "        gmsh_function_kwargs={\"xc\": 0, \"yc\": 0, \"zc\": 0, \"rx\": outer_radius_air, \"ry\": outer_radius_air},\n",
    "        model=model,\n",
    "        mesh_order=3,\n",
    "        physical_name=\"air\",\n",
    "        dimension=2,\n",
    "    )\n",
    "\n",
    "    return from_meshio(\n",
    "        model.mesh(\n",
    "            entities_list=[core, clad, air],\n",
    "            filename=\"mesh.msh\",\n",
    "            default_characteristic_length=air_resolution,\n",
    "        )\n",
    "    )"
   ]
  },
  {
   "cell_type": "code",
   "execution_count": 5,
   "id": "c753a8dd",
   "metadata": {},
   "outputs": [
    {
     "ename": "NameError",
     "evalue": "name 'fiber_mesh' is not defined",
     "output_type": "error",
     "traceback": [
      "\u001b[0;31m---------------------------------------------------------------------------\u001b[0m",
      "\u001b[0;31mNameError\u001b[0m                                 Traceback (most recent call last)",
      "Cell \u001b[0;32mIn[5], line 1\u001b[0m\n\u001b[0;32m----> 1\u001b[0m mesh \u001b[38;5;241m=\u001b[39m \u001b[43mfiber_mesh\u001b[49m(outer_radius_core \u001b[38;5;241m=\u001b[39m  \u001b[38;5;241m700\u001b[39m \u001b[38;5;241m/\u001b[39m \u001b[38;5;241m2\u001b[39m,\n\u001b[1;32m      2\u001b[0m                 outer_radius_clad \u001b[38;5;241m=\u001b[39m \u001b[38;5;241m850\u001b[39m \u001b[38;5;241m/\u001b[39m \u001b[38;5;241m2\u001b[39m,\n\u001b[1;32m      3\u001b[0m                 outer_radius_air \u001b[38;5;241m=\u001b[39m \u001b[38;5;241m2500\u001b[39m \u001b[38;5;241m/\u001b[39m \u001b[38;5;241m2\u001b[39m,\n\u001b[1;32m      4\u001b[0m                 clad_resolution \u001b[38;5;241m=\u001b[39m \u001b[38;5;241m200\u001b[39m,\n\u001b[1;32m      5\u001b[0m                 clad_dropoff \u001b[38;5;241m=\u001b[39m \u001b[38;5;241m200\u001b[39m,\n\u001b[1;32m      6\u001b[0m                 air_resolution \u001b[38;5;241m=\u001b[39m \u001b[38;5;241m200\u001b[39m\n\u001b[1;32m      7\u001b[0m                 )\n\u001b[1;32m      8\u001b[0m mesh\u001b[38;5;241m.\u001b[39mdraw()\u001b[38;5;241m.\u001b[39mshow()\n",
      "\u001b[0;31mNameError\u001b[0m: name 'fiber_mesh' is not defined"
     ]
    }
   ],
   "source": [
    "mesh = fiber_mesh(outer_radius_core =  700 / 2,\n",
    "                outer_radius_clad = 850 / 2,\n",
    "                outer_radius_air = 2500 / 2,\n",
    "                clad_resolution = 200,\n",
    "                clad_dropoff = 200,\n",
    "                air_resolution = 200\n",
    "                )\n",
    "mesh.draw().show()"
   ]
  },
  {
   "cell_type": "code",
   "execution_count": null,
   "id": "241234cb",
   "metadata": {},
   "outputs": [],
   "source": [
    "plot_domains(mesh)\n",
    "plt.show()"
   ]
  },
  {
   "cell_type": "code",
   "execution_count": null,
   "id": "ff186d0a",
   "metadata": {},
   "outputs": [],
   "source": [
    "basis0 = Basis(mesh, ElementTriP0())\n",
    "epsilon = basis0.zeros()\n",
    "for subdomain, n in {\"core\": 1.0002, \"clad\": 1.46, \"air\": 1.0002}.items():\n",
    "    epsilon[basis0.get_dofs(elements=subdomain)] = n**2\n",
    "basis0.plot(epsilon, colorbar=True).show()"
   ]
  },
  {
   "cell_type": "code",
   "execution_count": null,
   "id": "50433982",
   "metadata": {},
   "outputs": [],
   "source": [
    "wavelength = 0.635\n",
    "modes = compute_modes(basis0, epsilon, wavelength=wavelength, num_modes=2, order=2)\n",
    "for mode in modes:\n",
    "    print(f\"Effective refractive index: {mode.n_eff:.4f}\")\n",
    "    mode.show(mode.E.real, colorbar=True, direction=\"x\")\n",
    "    mode.show(mode.E.imag, colorbar=True, direction=\"x\")"
   ]
  },
  {
   "cell_type": "code",
   "execution_count": null,
   "id": "23d82adf",
   "metadata": {},
   "outputs": [],
   "source": []
  }
 ],
 "metadata": {
  "kernelspec": {
   "display_name": "Python 3 (ipykernel)",
   "language": "python",
   "name": "python3"
  },
  "language_info": {
   "codemirror_mode": {
    "name": "ipython",
    "version": 3
   },
   "file_extension": ".py",
   "mimetype": "text/x-python",
   "name": "python",
   "nbconvert_exporter": "python",
   "pygments_lexer": "ipython3",
   "version": "3.8.18"
  }
 },
 "nbformat": 4,
 "nbformat_minor": 5
}
